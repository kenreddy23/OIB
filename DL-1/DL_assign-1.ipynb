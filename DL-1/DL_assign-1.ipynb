{
 "cells": [
  {
   "cell_type": "code",
   "execution_count": 1,
   "id": "d628b18e-a52f-427e-98f2-a411f79a54fc",
   "metadata": {},
   "outputs": [],
   "source": [
    "#  Linear regression by using Deep Neural network: Implement Boston housing\n",
    "#  price.prediction problem by Linear regression using Deep Neural network. Use Boston House price\n",
    "#  prediction dataset\n",
    "\n",
    "\n"
   ]
  },
  {
   "cell_type": "code",
   "execution_count": 43,
   "id": "fc4796b3-9763-45a9-bbf0-049563f1adb6",
   "metadata": {},
   "outputs": [],
   "source": [
    "import numpy as np\n",
    "from sklearn.model_selection import train_test_split\n",
    "from sklearn.metrics import mean_squared_error, mean_absolute_error, r2_score\n",
    "from sklearn.linear_model import LinearRegression\n",
    "from keras.models import Sequential\n",
    "from keras.layers import Dense\n",
    "from keras.datasets import boston_housing"
   ]
  },
  {
   "cell_type": "code",
   "execution_count": 44,
   "id": "d6bf88da-f164-4c4e-9f4e-c5a465beb56f",
   "metadata": {},
   "outputs": [],
   "source": [
    "# Load Boston Housing data using Keras\n",
    "(X_train, y_train), (X_test, y_test) = boston_housing.load_data()"
   ]
  },
  {
   "cell_type": "code",
   "execution_count": 45,
   "id": "91a8bf27-c188-471b-a10a-3d29fc3faa80",
   "metadata": {},
   "outputs": [],
   "source": [
    "# Standardization\n",
    "mean, std = X_train.mean(axis=0), X_train.std(axis=0)\n",
    "X_train = (X_train - mean) / std\n",
    "X_test = (X_test - mean) / std"
   ]
  },
  {
   "cell_type": "code",
   "execution_count": 46,
   "id": "012a115a-5ea6-403b-99a8-8a27e5d4acfc",
   "metadata": {},
   "outputs": [
    {
     "name": "stdout",
     "output_type": "stream",
     "text": [
      "LR RMSE: 4.8161809825237025\n",
      "LR R2: 0.7213535934621552\n",
      "LR MAE: 3.4641858124067166\n"
     ]
    }
   ],
   "source": [
    "# Linear Regression\n",
    "lr = LinearRegression().fit(X_train, y_train)\n",
    "y_pred_lr = lr.predict(X_test)\n",
    "print(\"LR RMSE:\", np.sqrt(mean_squared_error(y_test, y_pred_lr)))\n",
    "print(\"LR R2:\", r2_score(y_test, y_pred_lr))\n",
    "print(\"LR MAE:\", mean_absolute_error(y_test, y_pred_lr))"
   ]
  },
  {
   "cell_type": "code",
   "execution_count": 48,
   "id": "95180289-a799-452c-98df-58ccb65a92f0",
   "metadata": {},
   "outputs": [
    {
     "data": {
      "text/plain": [
       "<keras.src.callbacks.history.History at 0x19f7fe16fb0>"
      ]
     },
     "execution_count": 48,
     "metadata": {},
     "output_type": "execute_result"
    }
   ],
   "source": [
    "# Deep Neural Network\n",
    "model = Sequential([\n",
    "    Input(shape=(13,)),  # Specify input shape here\n",
    "    Dense(128, activation='relu'),\n",
    "    Dense(64, activation='relu'),\n",
    "    Dense(32, activation='relu'),\n",
    "    Dense(16, activation='relu'),\n",
    "    Dense(1)\n",
    "])\n",
    "model.compile(optimizer='adam', loss='mse', metrics=['mae'])\n",
    "model.fit(X_train, y_train, epochs=100, validation_split=0.05, verbose=0)"
   ]
  },
  {
   "cell_type": "code",
   "execution_count": 49,
   "id": "464f49f8-edeb-49f1-ac7e-0984ae90ba02",
   "metadata": {},
   "outputs": [
    {
     "name": "stdout",
     "output_type": "stream",
     "text": [
      "DNN MSE: 12.587210655212402\n",
      "DNN MAE: 2.3657028675079346\n"
     ]
    }
   ],
   "source": [
    "# DNN Evaluation\n",
    "mse, mae = model.evaluate(X_test, y_test, verbose=0)\n",
    "print(\"DNN MSE:\", mse)\n",
    "print(\"DNN MAE:\", mae)"
   ]
  },
  {
   "cell_type": "code",
   "execution_count": 52,
   "id": "26130e26-4402-42f7-92b9-cef386c2d08a",
   "metadata": {},
   "outputs": [
    {
     "name": "stdout",
     "output_type": "stream",
     "text": [
      "Predicted price: 17.136747\n"
     ]
    }
   ],
   "source": [
    "# New prediction\n",
    "new_sample = [[0.1, 10.0, 5.0, 0, 0.4, 6.0, 50, 6.0, 1, 400, 20, 300, 10]]\n",
    "new_sample_scaled = (np.array(new_sample) - mean) / std\n",
    "pred = model.predict(new_sample_scaled, verbose=0)\n",
    "print(\"Predicted price:\", pred[0][0])"
   ]
  }
 ],
 "metadata": {
  "kernelspec": {
   "display_name": "Python 3 (ipykernel)",
   "language": "python",
   "name": "python3"
  },
  "language_info": {
   "codemirror_mode": {
    "name": "ipython",
    "version": 3
   },
   "file_extension": ".py",
   "mimetype": "text/x-python",
   "name": "python",
   "nbconvert_exporter": "python",
   "pygments_lexer": "ipython3",
   "version": "3.10.6"
  }
 },
 "nbformat": 4,
 "nbformat_minor": 5
}
