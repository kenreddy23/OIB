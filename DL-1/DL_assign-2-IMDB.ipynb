{
 "cells": [
  {
   "cell_type": "code",
   "execution_count": 1,
   "id": "924a95a9-31d6-4b4f-8da9-61fbccc62ce8",
   "metadata": {},
   "outputs": [],
   "source": [
    "# Binary classification using Deep Neural Networks Example: Classify movie\n",
    "#  reviews into positive\" reviews and \"negative\" reviews, just based on the text content of the reviews.Use\n",
    "#  IMDB datase"
   ]
  },
  {
   "cell_type": "code",
   "execution_count": 4,
   "id": "35c31aad-8c6d-4376-98bd-dfd61a8dcf1c",
   "metadata": {},
   "outputs": [],
   "source": [
    "import numpy as np\n",
    "from keras.datasets import imdb\n",
    "from keras import models, layers"
   ]
  },
  {
   "cell_type": "code",
   "execution_count": 5,
   "id": "32fa925c-db2d-467d-88fa-09f66743ef5b",
   "metadata": {},
   "outputs": [],
   "source": [
    "# Load IMDB dataset (only top 10,000 most frequent words)\n",
    "(x_train, y_train), (x_test, y_test) = imdb.load_data(num_words=10000)\n"
   ]
  },
  {
   "cell_type": "code",
   "execution_count": 6,
   "id": "05dd1aa6-1934-4353-892d-d42ef00327d6",
   "metadata": {},
   "outputs": [],
   "source": [
    "# Convert sequences of word indices into binary vector form\n",
    "def vectorize(sequences, dim=10000):\n",
    "    result = np.zeros((len(sequences), dim))\n",
    "    for i, seq in enumerate(sequences):\n",
    "        result[i, seq] = 1\n",
    "    return result\n",
    "\n",
    "x_train = vectorize(x_train)\n",
    "x_test = vectorize(x_test)"
   ]
  },
  {
   "cell_type": "code",
   "execution_count": 17,
   "id": "9ffedf1c-07c6-4ccc-b3d1-2700480fad2f",
   "metadata": {},
   "outputs": [],
   "source": [
    "# Define a simple deep neural network model\n",
    "model = models.Sequential([\n",
    "    layers.Input(shape=(10000,)),  # Explicit input layer\n",
    "    layers.Dense(16, activation='relu'),\n",
    "   \n",
    "    layers.Dense(1, activation='sigmoid')\n",
    "])"
   ]
  },
  {
   "cell_type": "code",
   "execution_count": 18,
   "id": "a11bf873-6cac-40b1-b612-d24ad0f36bbd",
   "metadata": {},
   "outputs": [],
   "source": [
    "# Compile the model with appropriate optimizer, loss function, and metric\n",
    "model.compile(optimizer='adam', loss='binary_crossentropy', metrics=['accuracy'])"
   ]
  },
  {
   "cell_type": "code",
   "execution_count": 19,
   "id": "87d083de-4161-41dd-a5f2-91373db769f8",
   "metadata": {},
   "outputs": [
    {
     "name": "stdout",
     "output_type": "stream",
     "text": [
      "Epoch 1/5\n",
      "\u001b[1m40/40\u001b[0m \u001b[32m━━━━━━━━━━━━━━━━━━━━\u001b[0m\u001b[37m\u001b[0m \u001b[1m2s\u001b[0m 18ms/step - accuracy: 0.7222 - loss: 0.5930 - val_accuracy: 0.8772 - val_loss: 0.3781\n",
      "Epoch 2/5\n",
      "\u001b[1m40/40\u001b[0m \u001b[32m━━━━━━━━━━━━━━━━━━━━\u001b[0m\u001b[37m\u001b[0m \u001b[1m0s\u001b[0m 11ms/step - accuracy: 0.8954 - loss: 0.3273 - val_accuracy: 0.8848 - val_loss: 0.3085\n",
      "Epoch 3/5\n",
      "\u001b[1m40/40\u001b[0m \u001b[32m━━━━━━━━━━━━━━━━━━━━\u001b[0m\u001b[37m\u001b[0m \u001b[1m1s\u001b[0m 11ms/step - accuracy: 0.9243 - loss: 0.2400 - val_accuracy: 0.8880 - val_loss: 0.2843\n",
      "Epoch 4/5\n",
      "\u001b[1m40/40\u001b[0m \u001b[32m━━━━━━━━━━━━━━━━━━━━\u001b[0m\u001b[37m\u001b[0m \u001b[1m0s\u001b[0m 11ms/step - accuracy: 0.9369 - loss: 0.2021 - val_accuracy: 0.8910 - val_loss: 0.2760\n",
      "Epoch 5/5\n",
      "\u001b[1m40/40\u001b[0m \u001b[32m━━━━━━━━━━━━━━━━━━━━\u001b[0m\u001b[37m\u001b[0m \u001b[1m0s\u001b[0m 10ms/step - accuracy: 0.9496 - loss: 0.1667 - val_accuracy: 0.8908 - val_loss: 0.2750\n"
     ]
    },
    {
     "data": {
      "text/plain": [
       "<keras.src.callbacks.history.History at 0x21e22511de0>"
      ]
     },
     "execution_count": 19,
     "metadata": {},
     "output_type": "execute_result"
    }
   ],
   "source": [
    "# Train the model on training data with a validation split\n",
    "model.fit(x_train, y_train, epochs=5, batch_size=512, validation_split=0.2)"
   ]
  },
  {
   "cell_type": "code",
   "execution_count": 20,
   "id": "c0fda72b-c0d0-418f-9274-30cc5fb30209",
   "metadata": {},
   "outputs": [
    {
     "name": "stdout",
     "output_type": "stream",
     "text": [
      "\u001b[1m782/782\u001b[0m \u001b[32m━━━━━━━━━━━━━━━━━━━━\u001b[0m\u001b[37m\u001b[0m \u001b[1m1s\u001b[0m 1ms/step - accuracy: 0.8833 - loss: 0.2899\n"
     ]
    }
   ],
   "source": [
    "# Evaluate the model on test data\n",
    "results = model.evaluate(x_test, y_test)"
   ]
  },
  {
   "cell_type": "code",
   "execution_count": null,
   "id": "c18de886-1bf2-46e3-8077-9bbd8eac1f0d",
   "metadata": {},
   "outputs": [],
   "source": []
  },
  {
   "cell_type": "code",
   "execution_count": null,
   "id": "2f84f4d5-8d91-4e03-a4c8-3db793871c75",
   "metadata": {},
   "outputs": [],
   "source": []
  }
 ],
 "metadata": {
  "kernelspec": {
   "display_name": "Python 3 (ipykernel)",
   "language": "python",
   "name": "python3"
  },
  "language_info": {
   "codemirror_mode": {
    "name": "ipython",
    "version": 3
   },
   "file_extension": ".py",
   "mimetype": "text/x-python",
   "name": "python",
   "nbconvert_exporter": "python",
   "pygments_lexer": "ipython3",
   "version": "3.10.6"
  }
 },
 "nbformat": 4,
 "nbformat_minor": 5
}
