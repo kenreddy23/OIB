{
  "cells": [
    {
      "cell_type": "code",
      "execution_count": 1,
      "id": "d628b18e-a52f-427e-98f2-a411f79a54fc",
      "metadata": {
        "id": "d628b18e-a52f-427e-98f2-a411f79a54fc"
      },
      "outputs": [],
      "source": [
        "#  Linear regression by using Deep Neural network: Implement Boston housing\n",
        "#  price.prediction problem by Linear regression using Deep Neural network. Use Boston House price\n",
        "#  prediction dataset\n",
        "\n",
        "\n"
      ]
    },
    {
      "cell_type": "code",
      "execution_count": 2,
      "id": "fc4796b3-9763-45a9-bbf0-049563f1adb6",
      "metadata": {
        "id": "fc4796b3-9763-45a9-bbf0-049563f1adb6"
      },
      "outputs": [],
      "source": [
        "import numpy as np\n",
        "from sklearn.model_selection import train_test_split\n",
        "from sklearn.metrics import mean_squared_error, mean_absolute_error, r2_score\n",
        "from sklearn.linear_model import LinearRegression\n",
        "from keras.models import Sequential\n",
        "from keras.layers import Dense\n",
        "from keras.datasets import boston_housing"
      ]
    },
    {
      "cell_type": "code",
      "execution_count": 3,
      "id": "d6bf88da-f164-4c4e-9f4e-c5a465beb56f",
      "metadata": {
        "colab": {
          "base_uri": "https://localhost:8080/"
        },
        "id": "d6bf88da-f164-4c4e-9f4e-c5a465beb56f",
        "outputId": "84cf55dc-e852-4340-a964-14bdcb4a2e8e"
      },
      "outputs": [
        {
          "output_type": "stream",
          "name": "stdout",
          "text": [
            "Downloading data from https://storage.googleapis.com/tensorflow/tf-keras-datasets/boston_housing.npz\n",
            "\u001b[1m57026/57026\u001b[0m \u001b[32m━━━━━━━━━━━━━━━━━━━━\u001b[0m\u001b[37m\u001b[0m \u001b[1m0s\u001b[0m 1us/step\n"
          ]
        }
      ],
      "source": [
        "# Load Boston Housing data using Keras\n",
        "(X_train, y_train), (X_test, y_test) = boston_housing.load_data()"
      ]
    },
    {
      "cell_type": "code",
      "execution_count": 4,
      "id": "91a8bf27-c188-471b-a10a-3d29fc3faa80",
      "metadata": {
        "id": "91a8bf27-c188-471b-a10a-3d29fc3faa80"
      },
      "outputs": [],
      "source": [
        "# Standardization\n",
        "mean, std = X_train.mean(axis=0), X_train.std(axis=0)\n",
        "X_train = (X_train - mean) / std\n",
        "X_test = (X_test - mean) / std"
      ]
    },
    {
      "cell_type": "code",
      "execution_count": 5,
      "id": "012a115a-5ea6-403b-99a8-8a27e5d4acfc",
      "metadata": {
        "colab": {
          "base_uri": "https://localhost:8080/"
        },
        "id": "012a115a-5ea6-403b-99a8-8a27e5d4acfc",
        "outputId": "756acf88-3b61-4d10-ad7e-8b6fab85c1ef"
      },
      "outputs": [
        {
          "output_type": "stream",
          "name": "stdout",
          "text": [
            "LR RMSE: 4.8161809825237025\n",
            "LR R2: 0.7213535934621552\n",
            "LR MAE: 3.4641858124067175\n"
          ]
        }
      ],
      "source": [
        "# Linear Regression\n",
        "lr = LinearRegression().fit(X_train, y_train)\n",
        "y_pred_lr = lr.predict(X_test)\n",
        "print(\"LR RMSE:\", np.sqrt(mean_squared_error(y_test, y_pred_lr)))\n",
        "print(\"LR R2:\", r2_score(y_test, y_pred_lr))\n",
        "print(\"LR MAE:\", mean_absolute_error(y_test, y_pred_lr))"
      ]
    },
    {
      "cell_type": "code",
      "execution_count": 11,
      "id": "95180289-a799-452c-98df-58ccb65a92f0",
      "metadata": {
        "colab": {
          "base_uri": "https://localhost:8080/"
        },
        "id": "95180289-a799-452c-98df-58ccb65a92f0",
        "outputId": "89d0331d-a047-4e57-dbf2-669a68059ec8"
      },
      "outputs": [
        {
          "output_type": "execute_result",
          "data": {
            "text/plain": [
              "<keras.src.callbacks.history.History at 0x794f57ad5dd0>"
            ]
          },
          "metadata": {},
          "execution_count": 11
        }
      ],
      "source": [
        "# Deep Neural Network\n",
        "from keras.layers import Input # Import the Input layer\n",
        "\n",
        "model = Sequential([\n",
        "    Input(shape=(13,)),  # Specify input shape here, corrected to 13 for Boston Housing data\n",
        "    Dense(128, activation='relu'),\n",
        "    Dense(64, activation='relu'),\n",
        "    Dense(32, activation='relu'),\n",
        "    Dense(16, activation='relu'),\n",
        "    Dense(1)\n",
        "])\n",
        "model.compile(optimizer='adam', loss='mse', metrics=['mae'])\n",
        "model.fit(X_train, y_train, epochs=100, validation_split=0.05, verbose=0)"
      ]
    },
    {
      "cell_type": "code",
      "execution_count": 12,
      "id": "464f49f8-edeb-49f1-ac7e-0984ae90ba02",
      "metadata": {
        "colab": {
          "base_uri": "https://localhost:8080/"
        },
        "id": "464f49f8-edeb-49f1-ac7e-0984ae90ba02",
        "outputId": "48903dc2-3697-4699-9275-b6b7df2007cc"
      },
      "outputs": [
        {
          "output_type": "stream",
          "name": "stdout",
          "text": [
            "DNN MSE: 14.435697555541992\n",
            "DNN MAE: 2.424539804458618\n"
          ]
        }
      ],
      "source": [
        "# DNN Evaluation\n",
        "mse, mae = model.evaluate(X_test, y_test, verbose=0)\n",
        "print(\"DNN MSE:\", mse)\n",
        "print(\"DNN MAE:\", mae)"
      ]
    },
    {
      "cell_type": "code",
      "execution_count": 13,
      "id": "26130e26-4402-42f7-92b9-cef386c2d08a",
      "metadata": {
        "colab": {
          "base_uri": "https://localhost:8080/"
        },
        "id": "26130e26-4402-42f7-92b9-cef386c2d08a",
        "outputId": "84497f30-1ff9-4b65-ffd7-9fb69102d246"
      },
      "outputs": [
        {
          "output_type": "stream",
          "name": "stdout",
          "text": [
            "Predicted price: 16.140753\n"
          ]
        }
      ],
      "source": [
        "# New prediction\n",
        "new_sample = [[0.1, 10.0, 5.0, 0, 0.4, 6.0, 50, 6.0, 1, 400, 20, 300, 10]]\n",
        "new_sample_scaled = (np.array(new_sample) - mean) / std\n",
        "pred = model.predict(new_sample_scaled, verbose=0)\n",
        "print(\"Predicted price:\", pred[0][0])"
      ]
    }
  ],
  "metadata": {
    "kernelspec": {
      "display_name": "Python 3 (ipykernel)",
      "language": "python",
      "name": "python3"
    },
    "language_info": {
      "codemirror_mode": {
        "name": "ipython",
        "version": 3
      },
      "file_extension": ".py",
      "mimetype": "text/x-python",
      "name": "python",
      "nbconvert_exporter": "python",
      "pygments_lexer": "ipython3",
      "version": "3.10.6"
    },
    "colab": {
      "provenance": []
    }
  },
  "nbformat": 4,
  "nbformat_minor": 5
}