{
 "cells": [
  {
   "cell_type": "code",
   "execution_count": 1,
   "id": "161497c1-ae77-43b7-bbc6-02f9ed9c5146",
   "metadata": {},
   "outputs": [
    {
     "name": "stdout",
     "output_type": "stream",
     "text": [
      "Maximum value in the knapsack: 220\n",
      "Selected items: [1, 2]\n"
     ]
    }
   ],
   "source": [
    "def knapsack_dynamic_programming(values, weights, capacity):\n",
    "    n = len(values)\n",
    "    \n",
    "    # Create a 2D array to store the maximum value for each capacity\n",
    "    dp = [[0] * (capacity + 1) for _ in range(n + 1)]\n",
    "    \n",
    "    # Build the dp array\n",
    "    for i in range(n + 1):\n",
    "        for w in range(capacity + 1):\n",
    "            if i == 0 or w == 0:\n",
    "                dp[i][w] = 0  # Base case: no items or no capacity\n",
    "            elif weights[i - 1] <= w:\n",
    "                # Choose the maximum between including the item or not\n",
    "                dp[i][w] = max(values[i - 1] + dp[i - 1][w - weights[i - 1]], dp[i - 1][w])\n",
    "            else:\n",
    "                dp[i][w] = dp[i - 1][w]  # Item cannot be included\n",
    "\n",
    "    # Backtrack to find the selected items\n",
    "    selected_items = []\n",
    "    i, w = n, capacity\n",
    "    while i > 0 and w > 0:\n",
    "        if dp[i][w] != dp[i - 1][w]:  # Item was included\n",
    "            selected_items.append(i - 1)\n",
    "            w -= weights[i - 1]  # Reduce the capacity\n",
    "        i -= 1  # Move to the next item\n",
    "\n",
    "    selected_items.reverse()  # Reverse to maintain original order\n",
    "    return dp[n][capacity], selected_items\n",
    "\n",
    "# Example usage\n",
    "if __name__ == \"__main__\":\n",
    "    values = [60, 100, 120]\n",
    "    weights = [10, 20, 30]\n",
    "    capacity = 50\n",
    "    max_value, selected_items = knapsack_dynamic_programming(values, weights, capacity)\n",
    "    print(\"Maximum value in the knapsack:\", max_value)\n",
    "    print(\"Selected items:\", selected_items)"
   ]
  },
  {
   "cell_type": "code",
   "execution_count": null,
   "id": "6acca5bc-a5b5-4657-94d3-84245cff6826",
   "metadata": {},
   "outputs": [],
   "source": []
  }
 ],
 "metadata": {
  "kernelspec": {
   "display_name": "Python 3 (ipykernel)",
   "language": "python",
   "name": "python3"
  },
  "language_info": {
   "codemirror_mode": {
    "name": "ipython",
    "version": 3
   },
   "file_extension": ".py",
   "mimetype": "text/x-python",
   "name": "python",
   "nbconvert_exporter": "python",
   "pygments_lexer": "ipython3",
   "version": "3.12.6"
  }
 },
 "nbformat": 4,
 "nbformat_minor": 5
}
