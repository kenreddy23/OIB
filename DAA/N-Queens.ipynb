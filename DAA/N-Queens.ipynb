{
 "cells": [
  {
   "cell_type": "code",
   "execution_count": 1,
   "id": "fb1d8ab2-436b-4464-857a-b1e03a8827db",
   "metadata": {},
   "outputs": [
    {
     "name": "stdout",
     "output_type": "stream",
     "text": [
      "\n",
      "\n",
      "N Queen Backtracking Solution:\n",
      "0 0 1 0\n",
      "1 0 0 0\n",
      "0 0 0 1\n",
      "0 1 0 0\n"
     ]
    }
   ],
   "source": [
    "class NQBacktracking:\n",
    "    def __init__(self):\n",
    "        self.ld = [0] * 30  # Left diagonal occupancy\n",
    "        self.rd = [0] * 30  # Right diagonal occupancy\n",
    "        self.cl = [0] * 30  # Column occupancy\n",
    "\n",
    "    def printSolution(self, board):\n",
    "        print(\"\\n\\nN Queen Backtracking Solution:\")\n",
    "        for line in board:\n",
    "            print(\" \".join(map(str, line)))\n",
    "\n",
    "    def solveNQUtil(self, board, col):\n",
    "        if col >= N:  # If all queens are placed\n",
    "            return True\n",
    "        \n",
    "        for i in range(N):\n",
    "            # Check if it's safe to place the queen\n",
    "            if (self.ld[i - col + N - 1] != 1 and\n",
    "                self.rd[i + col] != 1 and\n",
    "                self.cl[i] != 1):\n",
    "                \n",
    "                board[i][col] = 1  # Place the queen\n",
    "                self.ld[i - col + N - 1] = self.rd[i + col] = self.cl[i] = 1\n",
    "                \n",
    "                # Recur to place the rest of the queens\n",
    "                if self.solveNQUtil(board, col + 1):\n",
    "                    return True\n",
    "                \n",
    "                # BACKTRACK\n",
    "                board[i][col] = 0\n",
    "                self.ld[i - col + N - 1] = self.rd[i + col] = self.cl[i] = 0\n",
    "        \n",
    "        return False\n",
    "\n",
    "    def solveNQ(self):\n",
    "        board = [[0 for _ in range(N)] for __ in range(N)]  # Initialize the board\n",
    "        if self.solveNQUtil(board, 0) == False:\n",
    "            print(\"Solution does not exist\")\n",
    "            return False\n",
    "        self.printSolution(board)\n",
    "        return True\n",
    "\n",
    "if __name__ == \"__main__\":\n",
    "    N = 4  # Size of the chessboard\n",
    "    NQBt = NQBacktracking()\n",
    "    NQBt.solveNQ()"
   ]
  },
  {
   "cell_type": "code",
   "execution_count": null,
   "id": "a3c5e205-688b-4dfa-88ab-76efcc0d8f4c",
   "metadata": {},
   "outputs": [],
   "source": []
  }
 ],
 "metadata": {
  "kernelspec": {
   "display_name": "Python 3 (ipykernel)",
   "language": "python",
   "name": "python3"
  },
  "language_info": {
   "codemirror_mode": {
    "name": "ipython",
    "version": 3
   },
   "file_extension": ".py",
   "mimetype": "text/x-python",
   "name": "python",
   "nbconvert_exporter": "python",
   "pygments_lexer": "ipython3",
   "version": "3.12.6"
  }
 },
 "nbformat": 4,
 "nbformat_minor": 5
}
