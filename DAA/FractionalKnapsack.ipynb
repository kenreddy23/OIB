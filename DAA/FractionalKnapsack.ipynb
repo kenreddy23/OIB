{
 "cells": [
  {
   "cell_type": "code",
   "execution_count": 2,
   "id": "f1497a75-2183-4393-97e1-7e5dddcb1ad3",
   "metadata": {},
   "outputs": [
    {
     "name": "stdout",
     "output_type": "stream",
     "text": [
      "Maximum value in Knapsack = 240.0\n"
     ]
    }
   ],
   "source": [
    "class Item:\n",
    "    def __init__(self, value, weight):\n",
    "        self.value = value\n",
    "        self.weight = weight\n",
    "\n",
    "def fractionalKnapsack(W, arr):\n",
    "    # Sort items by value/weight ratio in descending order\n",
    "    arr.sort(key=lambda x: (x.value / x.weight), reverse=True)\n",
    "    \n",
    "    finalvalue = 0.0  # Variable to store the final value of items in the knapsack\n",
    "    \n",
    "    # Iterate through the sorted list of items\n",
    "    for item in arr:\n",
    "        if item.weight <= W:\n",
    "            # If the item can fit in the knapsack, take all of it\n",
    "            W -= item.weight\n",
    "            finalvalue += item.value\n",
    "        else:\n",
    "            # If the item cannot fit, take the fractional part of it\n",
    "            finalvalue += item.value * W / item.weight\n",
    "            break\n",
    "    \n",
    "    return finalvalue\n",
    "\n",
    "if __name__ == \"__main__\":\n",
    "    W = 50  # Capacity of the knapsack\n",
    "    arr = [Item(60, 10), Item(100, 20), Item(120, 30)]  # List of items with value and weight\n",
    "    \n",
    "    max_val = fractionalKnapsack(W, arr)  # Get the maximum value that can be obtained\n",
    "    print(f\"Maximum value in Knapsack = {max_val}\")\n"
   ]
  },
  {
   "cell_type": "code",
   "execution_count": null,
   "id": "bc2d3375-9adc-44d2-93f5-47feca5b2eb5",
   "metadata": {},
   "outputs": [],
   "source": []
  }
 ],
 "metadata": {
  "kernelspec": {
   "display_name": "Python 3 (ipykernel)",
   "language": "python",
   "name": "python3"
  },
  "language_info": {
   "codemirror_mode": {
    "name": "ipython",
    "version": 3
   },
   "file_extension": ".py",
   "mimetype": "text/x-python",
   "name": "python",
   "nbconvert_exporter": "python",
   "pygments_lexer": "ipython3",
   "version": "3.12.6"
  }
 },
 "nbformat": 4,
 "nbformat_minor": 5
}
