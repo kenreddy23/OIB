{
 "cells": [
  {
   "cell_type": "code",
   "execution_count": 1,
   "id": "78d8432a-8fb3-42cd-9f43-040463bb6060",
   "metadata": {},
   "outputs": [
    {
     "name": "stdin",
     "output_type": "stream",
     "text": [
      "Enter the number of terms in the Fibonacci series:  4\n"
     ]
    },
    {
     "name": "stdout",
     "output_type": "stream",
     "text": [
      "Fibonacci Series for the first 4 terms: [0, 1, 1, 2]\n"
     ]
    }
   ],
   "source": [
    "def calculate_fibonacci_series(n):\n",
    "    a, b = 0, 1\n",
    "    step_count = 0\n",
    "    fibonacci_series = []\n",
    "    for i in range(n):\n",
    "        step_count += 1\n",
    "        fibonacci_series.append(a)\n",
    "        a, b = b, a+b\n",
    "    return fibonacci_series\n",
    "\n",
    "if __name__ == \"__main__\":\n",
    "    # Input from the user\n",
    "    n = int(input(\"Enter the number of terms in the Fibonacci series: \"))\n",
    "    # Calculate the Fibonacci series and step count\n",
    "    fibonacci_series= calculate_fibonacci_series(n)\n",
    "    print(f\"Fibonacci Series for the first {n} terms: {fibonacci_series}\")"
   ]
  },
  {
   "cell_type": "code",
   "execution_count": null,
   "id": "a63f6a9e-269c-4eca-9e26-050adbcd649f",
   "metadata": {},
   "outputs": [],
   "source": []
  }
 ],
 "metadata": {
  "kernelspec": {
   "display_name": "Python 3 (ipykernel)",
   "language": "python",
   "name": "python3"
  },
  "language_info": {
   "codemirror_mode": {
    "name": "ipython",
    "version": 3
   },
   "file_extension": ".py",
   "mimetype": "text/x-python",
   "name": "python",
   "nbconvert_exporter": "python",
   "pygments_lexer": "ipython3",
   "version": "3.12.6"
  }
 },
 "nbformat": 4,
 "nbformat_minor": 5
}
